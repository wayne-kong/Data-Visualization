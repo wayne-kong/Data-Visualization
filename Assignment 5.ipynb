{
 "cells": [
  {
   "cell_type": "markdown",
   "metadata": {},
   "source": [
    "#### Assignment 5: Geographic Data Analysis\n",
    "\n",
    "In this assignment, you will be using a database of geographic data provided for you in the PySal library to create two plots, a choropleth map and a proportional symbol map. In addition to these two plots, you will compute the value of Moran's I for this data.\n",
    "\n",
    "#### Dataset\n",
    "\n",
    "The dataset to be used in this assignment is a dataset containing Per Capita incomes for the United States' lower 48 states. In addition to the state-by-state data, the dataset contains shape files for each state that you can use\n",
    "to create the choropleth and proportional symbol maps.\n",
    "\n",
    "#### Administrative Notes\n",
    "\n",
    "This assignment will be graded by Coursera's grading system. In order for your answers to be correctly registered in the system, you must place the code for your answers in the cell indicated for each question. In addition, you should submit the assignment with the output of the code in the cell's display area. The display area should contain only your answer to the question with no extraneous information, or else the answer may not be picked up correctly. Each cell that is going to be graded has a set of comment lines at the beginning of the cell. These lines are extremely important and must not be modified or removed."
   ]
  },
  {
   "cell_type": "code",
   "execution_count": 1,
   "metadata": {},
   "outputs": [
    {
     "ename": "ModuleNotFoundError",
     "evalue": "No module named 'geopandas'",
     "output_type": "error",
     "traceback": [
      "\u001b[1;31m---------------------------------------------------------------------------\u001b[0m",
      "\u001b[1;31mModuleNotFoundError\u001b[0m                       Traceback (most recent call last)",
      "\u001b[1;32m<ipython-input-1-99df0e07ce32>\u001b[0m in \u001b[0;36m<module>\u001b[1;34m\u001b[0m\n\u001b[0;32m      5\u001b[0m \u001b[1;31m# may make this task easier.\u001b[0m\u001b[1;33m\u001b[0m\u001b[1;33m\u001b[0m\u001b[1;33m\u001b[0m\u001b[0m\n\u001b[0;32m      6\u001b[0m \u001b[1;32mimport\u001b[0m \u001b[0mpandas\u001b[0m \u001b[1;32mas\u001b[0m \u001b[0mpd\u001b[0m\u001b[1;33m\u001b[0m\u001b[1;33m\u001b[0m\u001b[0m\n\u001b[1;32m----> 7\u001b[1;33m \u001b[1;32mimport\u001b[0m \u001b[0mgeopandas\u001b[0m \u001b[1;32mas\u001b[0m \u001b[0mgpd\u001b[0m\u001b[1;33m\u001b[0m\u001b[1;33m\u001b[0m\u001b[0m\n\u001b[0m\u001b[0;32m      8\u001b[0m \u001b[1;32mimport\u001b[0m \u001b[0mnumpy\u001b[0m \u001b[1;32mas\u001b[0m \u001b[0mnp\u001b[0m\u001b[1;33m\u001b[0m\u001b[1;33m\u001b[0m\u001b[0m\n\u001b[0;32m      9\u001b[0m \u001b[1;32mimport\u001b[0m \u001b[0mpysal\u001b[0m\u001b[1;33m\u001b[0m\u001b[1;33m\u001b[0m\u001b[0m\n",
      "\u001b[1;31mModuleNotFoundError\u001b[0m: No module named 'geopandas'"
     ]
    }
   ],
   "source": [
    "# Graded Cell, PartID: CkcsR\n",
    "# Part 1: Using the PySal Data, create a choropleth path of the United States\n",
    "# that depicts the per capita income of each US state in 2009.\n",
    "# Notes: The PySal and GeoPandas libraries both contain utility functions that\n",
    "# may make this task easier.\n",
    "import pandas as pd\n",
    "import geopandas as gpd\n",
    "import numpy as np\n",
    "import pysal\n",
    "import matplotlib.pyplot as plt\n",
    "from mpl_toolkits.axes_grid1 import make_axes_locatable\n",
    "%matplotlib inline\n",
    "\n",
    "us_income=pd.read_csv(pysal.examples.get_path(\"usjoin.csv\"))\n",
    "# print(us_income.head())\n",
    "us_income_shape=gpd.read_file(pysal.examples.get_path(\"us48.shx\"))\n",
    "# print(us_income_shape.head())\n",
    "# us_income.plot()\n",
    "# us_income_shape.plot()\n",
    "merged_us_income=pd.merge(left=us_income_shape, right=us_income, left_on=\"STATE_NAME\", right_on=\"Name\")\n",
    "# print(merged_us_income.head())\n",
    "ax=merged_us_income.plot(column=\"2009\", figsize=(16,10), scheme='equal_interval',legend=True)\n",
    "ax.set_title('Per Capita Income of Each US State in 2009', fontdict= \n",
    "            {'fontsize':25})\n",
    "ax.set_axis_off()\n",
    "ax.get_legend().set_bbox_to_anchor((.12,.12))\n",
    "# merged_us_income.plot(column=\"2009\", figsize=(16,10))\n",
    "\n",
    "# plt.title(\"Per Capita Income of Each US State in 2009\")\n",
    "plt.show()"
   ]
  },
  {
   "cell_type": "code",
   "execution_count": null,
   "metadata": {},
   "outputs": [],
   "source": [
    "# Graded Cell, PartID: FqNRm\n",
    "# Part 2: Again using the PySal Data, create a proportional symbol map showing \n",
    "# a dot at the centroid of each state that is scaled to the per capita income \n",
    "# of each US state in 2009.\n",
    "# Notes: The demonstration notebook for this unit contains code that performs \n",
    "# a similar task and may be a useful reference for your assignment.\n",
    "us_income=pd.read_csv(pysal.examples.get_path(\"usjoin.csv\"))\n",
    "# print(us_income.head())\n",
    "data=gpd.read_file(pysal.examples.get_path(\"us48.shx\"))\n",
    "# print(data.head())\n",
    "data['income']=us_income['2009']\n",
    "# print(us_income['2009'])\n",
    "data['centroid_column']=data.centroid\n",
    "# print(data.centroid)\n",
    "centroids=list(data['centroid_column'])\n",
    "df=pd.DataFrame({'y':[centroids[i].y for i in range(len(centroids))],\n",
    "                   'x':[centroids[i].x for i in range(len(centroids))],\n",
    "                   'data':list(data['income'])})\n",
    "# print(df)\n",
    "base=data.plot(color='white',edgecolor='black')\n",
    "ax=df.plot(kind='scatter',x='x', y='y',s=df['data']*0.001, ax=base, figsize=(12,10))\n",
    "ax.set_title('Proportional Symbol Map of Per Capita Income of Each US State in 2009', fontdict= \n",
    "            {'fontsize':15})\n",
    "ax.set_axis_off()\n",
    "plt.show()"
   ]
  },
  {
   "cell_type": "code",
   "execution_count": null,
   "metadata": {},
   "outputs": [],
   "source": [
    "# Graded Cell, PartID: CtQYv\n",
    "# Part 3: Using the same data, compute the value of Moran's I for the per \n",
    "# capita income of each US state in 2009 using Rook Continuity. Report the \n",
    "# value of I rounded to 4 decimal places (i.e. x.XXXX)\n",
    "# Notes: Again, the PySal and GeoPandas libraries may contain useful utility\n",
    "# functions.\n",
    "f = pysal.open(pysal.examples.get_path(\"usjoin.csv\"))\n",
    "y = np.array(f.by_col['2009'])\n",
    "w = pysal.weights.rook_from_shapefile(pysal.examples.get_path('us48.shx'))\n",
    "\n",
    "mi = pysal.Moran(y, w, two_tailed=False)\n",
    "\n",
    "print(\"{:.4f}\".format(mi.I))"
   ]
  }
 ],
 "metadata": {
  "coursera": {
   "course_slug": "cse578",
   "graded_item_id": "0gqAw",
   "launcher_item_id": "h0kcM"
  },
  "kernelspec": {
   "display_name": "Python 3",
   "language": "python",
   "name": "python3"
  },
  "language_info": {
   "codemirror_mode": {
    "name": "ipython",
    "version": 3
   },
   "file_extension": ".py",
   "mimetype": "text/x-python",
   "name": "python",
   "nbconvert_exporter": "python",
   "pygments_lexer": "ipython3",
   "version": "3.7.6"
  }
 },
 "nbformat": 4,
 "nbformat_minor": 1
}
