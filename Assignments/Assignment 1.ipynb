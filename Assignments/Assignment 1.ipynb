{
 "cells": [
  {
   "cell_type": "markdown",
   "metadata": {},
   "source": [
    "# Assignment 1: Dino Fun World\n",
    "\n",
    "You, in your role as a burgeoning data explorer and visualizer, have been asked by the administrators of a small amusement park in your hometown to answer a couple questions about their park operations. In order to perform the requested analysis, they have provided you with a database containing information about one day of the park's operations.\n",
    "\n",
    "### Provided Database\n",
    "\n",
    "The database provided by the park administration is formatted to be readable by any SQL database library. The course staff recommends the sqlite3 library. The database contains three tables, named 'checkins', 'attractions', and 'sequences'. The information contained in each of these tables is listed below:\n",
    "\n",
    "`checkins`:\n",
    "    - Description: check-in data for all visitors for the day in the park. The data includes two types of check-ins, inferred and actual checkins.\n",
    "    - Fields: visitorID, timestamp, attraction, duration, type\n",
    "`attraction`:\n",
    "    - The attractions in the park by their corresponding AttractionID, Name, Region, Category, and type. Regions are from the VAST Challenge map such as Coaster Alley, Tundra Land, etc. Categories include Thrill rides, Kiddie Rides, etc. Type is broken into Outdoor Coaster, Other Ride, Carussel, etc.\n",
    "    - Fields: AttractionID, Name, Region, Category, type\n",
    "`sequences`:\n",
    "    - The check-in sequences of visitors. These sequences list the position of each visitor to the park every five minutes. If the visitor has not entered the part yet, the sequence has a value of 0 for that time interval. If the visitor is in the park, the sequence lists the attraction they have most recently checked in to until they check in to a new one or leave the park.\n",
    "    - Fields: visitorID, sequence\n",
    "    \n",
    "The database is named 'dinofunworld.db' and is located in the 'readonly' directory of the Jupyter Notebook environment. It can be accessed at 'readonly/dinofunworld.db'.\n",
    "\n",
    "### Questions to Answer\n",
    "\n",
    "The administrators would like you to answer four relatively simple questions about the park activities on the day in question. These questions all deal with park operations and can be answered using the data provided.\n",
    "\n",
    "Question 1: What is the most popular attraction to visit in the park?\n",
    "Question 2: What ride (note that not all attractions are rides) has the longest visit time?\n",
    "Question 3: Which Fast Food offering has the fewest visitors?\n",
    "Question 4: Compute the Skyline of number of visits and visit time for the park's ride and report the rides that appear in the Skyline.\n",
    "\n",
    "#### Administrative Notes\n",
    "\n",
    "This assignment will be graded by Coursera's grading system. In order for your answers to be correctly registered in the system, you must place the code for your answers in the cell indicated for each question. In addition, you should submit the assignment with the output of the code in the cell's display area. The display area should contain only your answer to the question with no extraneous information, or else the answer may not be picked up correctly. Each cell that is going to be graded has a set of comment lines at the beginning of the cell. These lines are extremely important and must not be modified or removed."
   ]
  },
  {
   "cell_type": "code",
   "execution_count": 1,
   "metadata": {
    "scrolled": false
   },
   "outputs": [
    {
     "name": "stdout",
     "output_type": "stream",
     "text": [
      "Atmosfear\n"
     ]
    }
   ],
   "source": [
    "# Graded Cell, PartID: NDnou\n",
    "# Question 1: What is the most popular attraction to visit in the park?\n",
    "# Notes: Your output should be the name of the attraction.\n",
    "import sqlite3\n",
    "from datetime import timedelta\n",
    "import operator\n",
    "db_filename='readonly/dinofunworld.db'\n",
    "conn=sqlite3.connect(db_filename)\n",
    "c=conn.cursor()\n",
    "# c.execute(\"SELECT visitorID, timestamp, attraction, duration, type FROM checkin GROUP BY attraction ORDER BY duration desc;\")\n",
    "# result=c.fetchall()\n",
    "# #print(result)\n",
    "\n",
    "# c.execute(\"SELECT attraction, COUNT(*) as count FROM checkin GROUP BY attraction ORDER BY count desc;\")\n",
    "# result=c.fetchall()\n",
    "# #print(result)\n",
    "# popular_attraction_id=result[0][0]\n",
    "# #print(popular_attraction_id)\n",
    "\n",
    "# c.execute(\"SELECT Name FROM attraction WHERE AttractionID=\"+str(popular_attraction_id)+\";\")\n",
    "# result=c.fetchall()\n",
    "#print(result)\n",
    "c.execute(\"SELECT name FROM checkin, attraction WHERE attraction.attractionID=checkin.attraction GROUP BY name ORDER BY COUNT(name) DESC\")\n",
    "result=c.fetchall()\n",
    "#print(result)\n",
    "popular_attraction=result[0][0]\n",
    "print(popular_attraction)"
   ]
  },
  {
   "cell_type": "code",
   "execution_count": 2,
   "metadata": {},
   "outputs": [
    {
     "name": "stdout",
     "output_type": "stream",
     "text": [
      "Flight of the Swingodon\n"
     ]
    }
   ],
   "source": [
    "# Graded Cell, PartID: FXGHp\n",
    "# Question 2: What ride (note that not all attractions are rides) has the longest average visit time?\n",
    "# Notes: Your output should be the name of the ride.\n",
    "# import sqlite3\n",
    "# db_filename='readonly/dinofunworld.db'\n",
    "# conn=sqlite3.connect(db_filename)\n",
    "# c=conn.cursor()\n",
    "# c.execute(\"SELECT * FROM checkin GROUP BY attraction\")\n",
    "# result=c.fetchall()\n",
    "# print(result)\n",
    "c.execute(\"SELECT name, duration FROM attraction, checkin WHERE attraction.attractionID=checkin.attraction AND attraction.category LIKE '%rides%' GROUP BY name ORDER BY avg(duration) desc;\")\n",
    "result=c.fetchall()\n",
    "longest_avg_ride=result[0][0]\n",
    "print(longest_avg_ride)"
   ]
  },
  {
   "cell_type": "code",
   "execution_count": 3,
   "metadata": {},
   "outputs": [
    {
     "name": "stdout",
     "output_type": "stream",
     "text": [
      "Theresaur Food Stop\n"
     ]
    }
   ],
   "source": [
    "# Graded Cell, PartID: KALua\n",
    "# Question 3: Which Fast Food offering in the park has the fewest visitors?\n",
    "# Notes: Your output should be the name of the fast food offering.\n",
    "# import sqlite3\n",
    "# db_filename='readonly/dinofunworld.db'\n",
    "# conn=sqlite3.connect(db_filename)\n",
    "# c=conn.cursor()\n",
    "c.execute(\"SELECT name, COUNT(visitorID) as count FROM attraction,checkin WHERE attraction.attractionID=checkin.attraction and attraction.type='Fast Food' GROUP BY name ORDER by count asc;\" )\n",
    "result=c.fetchall()\n",
    "fewest_visitor_fast_food=result[0][0]\n",
    "print(fewest_visitor_fast_food)"
   ]
  },
  {
   "cell_type": "code",
   "execution_count": 4,
   "metadata": {},
   "outputs": [
    {
     "name": "stdout",
     "output_type": "stream",
     "text": [
      "[(0, 436, '2014-06-08 09:48:51', 83, '0:00:59', 'actual'), (1, 436, '2014-06-08 09:56:46', 42, '0:08:03', 'inferred'), (2, 436, '2014-06-08 10:14:04', 6, '0:06:16', 'actual'), (3, 436, '2014-06-08 10:29:38', 5, '1:07:41', 'actual'), (4, 436, '2014-06-08 11:38:55', 49, '0:08:43', 'inferred')]\n"
     ]
    }
   ],
   "source": [
    "# Graded Cell, PartID: B0LUP\n",
    "# Question 4: Compute the Skyline of number of visits and visit time for the park's ride and \n",
    "#  report the rides that appear in the Skyline. \n",
    "# Notes: Remember that in this case, higher visits is better and lower visit times are better. \n",
    "#  Your output should be formatted as an array listing the names of the rides in the Skyline.\n",
    "\n",
    "\n",
    "# import sqlite3\n",
    "# db_filename='readonly/dinofunworld.db'\n",
    "# conn=sqlite3.connect(db_filename)\n",
    "# c=conn.cursor()\n",
    "#c.execute(\"SELECT name FROM attraction, checkin WHERE attraction.attractionID=checkin.attraction AND attraction.category LIKE '%rides%' GROUP BY name ORDER BY avg(duration) desc;\")\n",
    "# c.execute(\"SELECT name from attraction, checkin WHERE attraction.attractionID=checkin.attraction and attraction.category LIKE'%rides%' GROUP BY name ORDER by COUNT(name) desc\")\n",
    "# result=c.fetchall()\n",
    "# print(result)\n",
    "\n",
    "c.execute(\"SELECT*FROM checkin LIMIT 5\")\n",
    "result=c.fetchall()\n",
    "print(result)\n",
    "\n",
    "\n",
    "# c.execute(\"SELECT attractionid from attraction WHERE LOWER(category) like LOWER('%ride%')\")\n",
    "\n",
    "# ride_dict = {}\n",
    "# for i in c.fetchall():\n",
    "#     ride_id = i[0]\n",
    "#     c.execute(\"SELECT duration FROM checkin WHERE attraction=\" + str(ride_id))\n",
    "    \n",
    "#     ride_duration = 0    \n",
    "#     for j in c.fetchall():\n",
    "#         count = 0\n",
    "#         try:\n",
    "#             ride_duration += timedelta(int(j[0].split(':')[0]), int(j[0].split(':')[1]), int(j[0].split(':')[2])).total_seconds()\n",
    "#             count += 1\n",
    "#         except (ValueError, AttributeError) as e:\n",
    "#             pass\n",
    "#     ride_dict[ride_id] = [ride_duration]\n",
    "    \n",
    "#     c.execute(\"SELECT count(*) FROM checkin WHERE attraction=\" + str(ride_id))\n",
    "#     checkin_count = c.fetchone()[0]\n",
    "#     ride_dict[ride_id].append(checkin_count)\n",
    "    \n",
    "# visit_ride = list(ride_dict.keys())[0]\n",
    "# wait_ride = visit_ride\n",
    "# both_ride = visit_ride\n",
    "# for ride in ride_dict:\n",
    "#     if ride_dict[ride][0] < ride_dict[wait_ride][0]:\n",
    "#         wait_ride = ride\n",
    "#     if ride_dict[ride][1] > ride_dict[visit_ride][1]:\n",
    "#         visit_ride = ride\n",
    "#     if (ride_dict[ride][0] < ride_dict[both_ride][0]) and (ride_dict[ride][1] > ride_dict[both_ride][1]):\n",
    "#         both_ride = ride\n",
    "        \n",
    "# c.execute(\"SELECT name FROM attraction WHERE attractionid in (\" + str(visit_ride) + \",\" + str(wait_ride) + \",\" + str(both_ride) + \")\")\n",
    "# res = c.fetchall()\n",
    "# print([item[0] for item in res])"
   ]
  }
 ],
 "metadata": {
  "coursera": {
   "course_slug": "cse578",
   "graded_item_id": "NqAnt",
   "launcher_item_id": "T5SDi"
  },
  "kernelspec": {
   "display_name": "Python 3",
   "language": "python",
   "name": "python3"
  },
  "language_info": {
   "codemirror_mode": {
    "name": "ipython",
    "version": 3
   },
   "file_extension": ".py",
   "mimetype": "text/x-python",
   "name": "python",
   "nbconvert_exporter": "python",
   "pygments_lexer": "ipython3",
   "version": "3.7.6"
  }
 },
 "nbformat": 4,
 "nbformat_minor": 2
}
